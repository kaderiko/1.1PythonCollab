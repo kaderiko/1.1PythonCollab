{
  "nbformat": 4,
  "nbformat_minor": 0,
  "metadata": {
    "colab": {
      "provenance": []
    },
    "kernelspec": {
      "name": "python3",
      "display_name": "Python 3"
    },
    "language_info": {
      "name": "python"
    }
  },
  "cells": [
    {
      "cell_type": "markdown",
      "source": [
        "Veri Yapıları ve Algoritmalar dersi. İGÜ SİBER AKADEMİ MERKEZİ 4. Ders 22.08.2024\n",
        "Koşul Yapıları"
      ],
      "metadata": {
        "id": "nZZ3WqAB7er9"
      }
    },
    {
      "cell_type": "code",
      "source": [
        "print(\"İGÜ - ISTKA/ Ders 4\")"
      ],
      "metadata": {
        "colab": {
          "base_uri": "https://localhost:8080/"
        },
        "id": "8sL7ZgHX6qXN",
        "outputId": "0e4cffba-a9b2-4ddb-c370-52606b8cacdc"
      },
      "execution_count": null,
      "outputs": [
        {
          "output_type": "stream",
          "name": "stdout",
          "text": [
            "İGÜ - ISTKA/ Ders 4\n"
          ]
        }
      ]
    },
    {
      "cell_type": "code",
      "source": [
        "import sys\n",
        "import os\n",
        "\n",
        "print(sys.version)\n",
        "from google.colab import drive\n",
        "drive.mount('/content/drive')\n",
        "\n",
        "os.chdir('/content/drive/My Drive/VERIYAPILARI_ISTKA')\n",
        "!pwd"
      ],
      "metadata": {
        "colab": {
          "base_uri": "https://localhost:8080/"
        },
        "id": "1631fSAv6yy8",
        "outputId": "45c141fc-78d5-4479-eeb8-3e0bb6e8969f"
      },
      "execution_count": 47,
      "outputs": [
        {
          "output_type": "stream",
          "name": "stdout",
          "text": [
            "3.10.12 (main, Jul 29 2024, 16:56:48) [GCC 11.4.0]\n",
            "Drive already mounted at /content/drive; to attempt to forcibly remount, call drive.mount(\"/content/drive\", force_remount=True).\n",
            "/content/drive/My Drive/VERIYAPILARI_ISTKA\n"
          ]
        }
      ]
    },
    {
      "cell_type": "markdown",
      "source": [
        "Python Döngü Yapıları         \n",
        "Döngüler belirli bir kod bölümünden birden fazla çalıştırmamıza olanak tanır. Döngüler genellikle yazılımda tekrar eden işlemler için kullanılır.\n",
        "\n",
        "                                           \n",
        "Döngü Türleri:            \n",
        "1) for() (için) Döngüsü --> Belirli bir sıralama üzerinde iterasyon yapmak içğn kullanılır. Genellikle bir liste, dizi veya range fonksiyonu kullanılır.       \n",
        "2) while() (sırasında) Döngüsü --> Belirli bir koşul olduğu sürece kod bloğunu çalıştırır.\n",
        "\n",
        "                                                         \n",
        "Döngü Kontrol Yapıları:                    \n",
        "1) break (kırmak) --> Döngüyü tamamen sonlandırır.           \n",
        "2) continue (devam etmek) --> Döngünün o anki tekrarı - iterasyonu sonlandırır ve bir sonraki tekrara - iterasyona geçer.                   \n",
        "                     \n",
        "Döngü İçinde Döngü (İç İçe Döngüler)           \n",
        "1) İç içe for döngüsü                \n",
        "2) İç içe while döngüsü"
      ],
      "metadata": {
        "id": "fBmmqqfw9jPz"
      }
    },
    {
      "cell_type": "code",
      "source": [
        "#for döngüsü örneği: 0'dan 6'e kadar olan sayıların yazdırılması işlemidir.\n",
        "\n",
        "for i in range(7): #range: Menzil, alan\n",
        "  print(i)"
      ],
      "metadata": {
        "colab": {
          "base_uri": "https://localhost:8080/"
        },
        "id": "iWKDVA4_862b",
        "outputId": "1c02e192-81b0-4ef2-b353-2463ef6cc409"
      },
      "execution_count": null,
      "outputs": [
        {
          "output_type": "stream",
          "name": "stdout",
          "text": [
            "0\n",
            "1\n",
            "2\n",
            "3\n",
            "4\n",
            "5\n",
            "6\n"
          ]
        }
      ]
    },
    {
      "cell_type": "code",
      "source": [
        "#for döngüsü örneği: Alışveris listesi oluşturma\n",
        "\n",
        "List = [\"apple\", \"banana\", \"kiwi\", \"orange\"]\n",
        "\n",
        "for todo in List:\n",
        "  print(todo)"
      ],
      "metadata": {
        "colab": {
          "base_uri": "https://localhost:8080/"
        },
        "id": "zRbJ-c5lAnHl",
        "outputId": "518b72cf-5f31-449a-d1d2-9c5656a88f9f"
      },
      "execution_count": null,
      "outputs": [
        {
          "output_type": "stream",
          "name": "stdout",
          "text": [
            "apple\n",
            "banana\n",
            "kiwi\n",
            "orange\n"
          ]
        }
      ]
    },
    {
      "cell_type": "code",
      "source": [
        "#for döngüsü örneği: Bir sınıftaki öğrencilerin not ortalamasını hesaplama\n",
        "\n",
        "total = 0\n",
        "notes = [80, 70, 60, 50, 56]\n",
        "\n",
        "for note in notes:\n",
        "  total += note  #total = total + note\n",
        "\n",
        "  average = total / len(notes) #len (length): uzunluk\n",
        "\n",
        "\n",
        "print(\"First Print --> Note Average: \", average)\n",
        "print(f\"Second Print --> Note Average: {average}\") #Her iki şekilde de yazılabilir."
      ],
      "metadata": {
        "colab": {
          "base_uri": "https://localhost:8080/"
        },
        "id": "XEyxm_CcBf35",
        "outputId": "c50e03c2-eaeb-43d9-a8b3-83210ae1fdde"
      },
      "execution_count": null,
      "outputs": [
        {
          "output_type": "stream",
          "name": "stdout",
          "text": [
            "First Print --> Note Average:  63.2\n",
            "Second Print --> Note Average: 63.2\n"
          ]
        }
      ]
    },
    {
      "cell_type": "code",
      "source": [
        "#while döngüsü örneği : 0'dan 7'e kadar olan sayıların yazdırılması işlemidir.\n",
        "\n",
        "i = 0\n",
        "\n",
        "while i < 8:\n",
        "  print(i)\n",
        "  i += 1"
      ],
      "metadata": {
        "colab": {
          "base_uri": "https://localhost:8080/"
        },
        "id": "LXGlUlWUDfO_",
        "outputId": "35340cab-476d-4455-ece4-315825cf0496"
      },
      "execution_count": 19,
      "outputs": [
        {
          "output_type": "stream",
          "name": "stdout",
          "text": [
            "0\n",
            "1\n",
            "2\n",
            "3\n",
            "4\n",
            "5\n",
            "6\n",
            "7\n"
          ]
        }
      ]
    },
    {
      "cell_type": "code",
      "source": [
        "from re import I\n",
        "#while döngüsü örneği :Kullanıcıdan bir sayı alınması\n",
        "user_input = int(input(\"Enter a number: \"))\n",
        "\n",
        "# 0'dan kullanıcı tarafından girilen sayıya kadar sıralama yapması\n",
        "\n",
        "i=0\n",
        "\n",
        "while i <= user_input:\n",
        "  print(i)\n",
        "  i += 1"
      ],
      "metadata": {
        "colab": {
          "base_uri": "https://localhost:8080/"
        },
        "id": "d-slnBoZNXqG",
        "outputId": "d94894d5-9564-4de0-befc-22a3c4b3372a"
      },
      "execution_count": 18,
      "outputs": [
        {
          "output_type": "stream",
          "name": "stdout",
          "text": [
            "Enter a number: 9\n",
            "0\n",
            "1\n",
            "2\n",
            "3\n",
            "4\n",
            "5\n",
            "6\n",
            "7\n",
            "8\n",
            "9\n"
          ]
        }
      ]
    },
    {
      "cell_type": "code",
      "source": [
        "#break örneği: 4'e ulaştığında döngü sonlandıran kod bloğudur.\n",
        "\n",
        "for i in range(6):\n",
        "  if i == 4:\n",
        "    break\n",
        "  print(i)"
      ],
      "metadata": {
        "colab": {
          "base_uri": "https://localhost:8080/"
        },
        "id": "nFSowYk9Plmy",
        "outputId": "fcd9a753-0e70-4d46-c713-6fe1727800ee"
      },
      "execution_count": 30,
      "outputs": [
        {
          "output_type": "stream",
          "name": "stdout",
          "text": [
            "0\n",
            "1\n",
            "2\n",
            "3\n"
          ]
        }
      ]
    },
    {
      "cell_type": "code",
      "source": [
        "# continue örneği: 3' e ulaştığında o tekrar işlemini es geçen kod bloğudur.\n",
        "\n",
        "for i in range(7):\n",
        "  if i == 3:\n",
        "    continue\n",
        "  print(i)\n"
      ],
      "metadata": {
        "colab": {
          "base_uri": "https://localhost:8080/"
        },
        "id": "S1pqqYBiQi65",
        "outputId": "29fe096f-285c-4d4b-9412-1698ae2bb86c"
      },
      "execution_count": 27,
      "outputs": [
        {
          "output_type": "stream",
          "name": "stdout",
          "text": [
            "0\n",
            "1\n",
            "2\n",
            "4\n",
            "5\n",
            "6\n"
          ]
        }
      ]
    },
    {
      "cell_type": "code",
      "source": [
        "# İç içe for döngüsü örneği: 2 boyutlu bir matrisin elemanları üzerinde işlemler\n",
        "\n",
        "matrix =  [\n",
        "     [1, 2, 3],\n",
        "     [4, 5, 6],\n",
        "     [7, 8, 9]\n",
        "]\n",
        "\n",
        "for x in matrix:\n",
        "    for y in x:\n",
        "        print(y)"
      ],
      "metadata": {
        "colab": {
          "base_uri": "https://localhost:8080/"
        },
        "id": "1KCuJbaiRpd2",
        "outputId": "1487dde0-d873-4f99-d68a-f1889b27ca9c"
      },
      "execution_count": 35,
      "outputs": [
        {
          "output_type": "stream",
          "name": "stdout",
          "text": [
            "1\n",
            "2\n",
            "3\n",
            "4\n",
            "5\n",
            "6\n",
            "7\n",
            "8\n",
            "9\n"
          ]
        }
      ]
    },
    {
      "cell_type": "code",
      "source": [
        "# Kullanıcıdan bilgi alınması\n",
        "\n",
        "while True:\n",
        "  try:\n",
        "    info = int(input(\"Enter a number: \"))\n",
        "    break\n",
        "  except ValueError:\n",
        "    print(\"Invalid input. Please enter a valid number.\")\n",
        "\n",
        "\n",
        "# 0'dan kullanıcı tarafından girilen sayıya kadar sıralama yapılması\n",
        "\n",
        "i = 0\n",
        "while i <= info:\n",
        "  print(i)\n",
        "  i += 1\n",
        "\n"
      ],
      "metadata": {
        "colab": {
          "base_uri": "https://localhost:8080/"
        },
        "id": "5izUsGgoSpEu",
        "outputId": "eaa048b4-2ddb-449c-a148-7b4736e54123"
      },
      "execution_count": 38,
      "outputs": [
        {
          "output_type": "stream",
          "name": "stdout",
          "text": [
            "Enter a number: 10\n",
            "0\n",
            "1\n",
            "2\n",
            "3\n",
            "4\n",
            "5\n",
            "6\n",
            "7\n",
            "8\n",
            "9\n",
            "10\n"
          ]
        }
      ]
    },
    {
      "cell_type": "code",
      "source": [
        "# while döngüsü örneği: Kullanıcı bakiye bilgisinin sorgulanması\n",
        "\n",
        "total_price = 5000\n",
        "while total_price > 0:\n",
        "  try:\n",
        "    withdrawn = int(input(\"Enter the amount you want withdraw\"))\n",
        "    if withdrawn > total_price:\n",
        "      print(\"Insufficient balance\")\n",
        "      info = input(\"Do you want to withdraw more? (yes/no)\").lower() #lower: Daha düşük\n",
        "      if info == \"no\":\n",
        "        print(\"Transaction terminated\")\n",
        "        break\n",
        "\n",
        "    else:\n",
        "      total_price -= withdrawn\n",
        "      print(f\"Remaining balance: {total_price}\")\n",
        "      if total_price == 0:\n",
        "        print(\"Balance is exhausted\")\n",
        "  except ValueError:\n",
        "    print(\"Invalid input. Please enter a valid number.\")"
      ],
      "metadata": {
        "colab": {
          "base_uri": "https://localhost:8080/"
        },
        "id": "fZL5b9tpVY6y",
        "outputId": "19525098-66aa-45a6-baef-f7cd1da01f28"
      },
      "execution_count": 48,
      "outputs": [
        {
          "output_type": "stream",
          "name": "stdout",
          "text": [
            "Enter the amount you want withdraw200\n",
            "Remaining balance: 4800\n",
            "Enter the amount you want withdraw600\n",
            "Remaining balance: 4200\n",
            "Enter the amount you want withdraw4200\n",
            "Remaining balance: 0\n",
            "Balance is exhausted\n"
          ]
        }
      ]
    }
  ]
}