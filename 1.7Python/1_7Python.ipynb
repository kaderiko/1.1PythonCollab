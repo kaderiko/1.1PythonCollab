{
  "nbformat": 4,
  "nbformat_minor": 0,
  "metadata": {
    "colab": {
      "provenance": []
    },
    "kernelspec": {
      "name": "python3",
      "display_name": "Python 3"
    },
    "language_info": {
      "name": "python"
    }
  },
  "cells": [
    {
      "cell_type": "markdown",
      "source": [
        "Veri Yapıları ve Algoritmalar dersi. İGÜ SİBER AKADEMİ MERKEZİ 6. Ders 27.08.2024\n",
        "Dosya İşlemleri"
      ],
      "metadata": {
        "id": "12M26iL-ADGJ"
      }
    },
    {
      "cell_type": "code",
      "source": [
        "print(\"İGÜ - ISTKA/ Ders 7\")"
      ],
      "metadata": {
        "colab": {
          "base_uri": "https://localhost:8080/"
        },
        "id": "O56tfndfAiu6",
        "outputId": "4d14a1d9-61c0-4f2e-f6c8-12c0a19bee37"
      },
      "execution_count": null,
      "outputs": [
        {
          "output_type": "stream",
          "name": "stdout",
          "text": [
            "İGÜ - ISTKA/ Ders 7\n"
          ]
        }
      ]
    },
    {
      "cell_type": "code",
      "execution_count": null,
      "metadata": {
        "colab": {
          "base_uri": "https://localhost:8080/"
        },
        "id": "RtnW432t_27R",
        "outputId": "36fb3456-8774-4d22-d2c3-9a17f110e279"
      },
      "outputs": [
        {
          "output_type": "stream",
          "name": "stdout",
          "text": [
            "3.10.12 (main, Jul 29 2024, 16:56:48) [GCC 11.4.0]\n"
          ]
        }
      ],
      "source": [
        "import sys\n",
        "print(sys.version)"
      ]
    },
    {
      "cell_type": "code",
      "source": [
        "from google.colab import drive\n",
        "drive.mount('/content/drive')"
      ],
      "metadata": {
        "colab": {
          "base_uri": "https://localhost:8080/"
        },
        "id": "XHlf6p7n_4jC",
        "outputId": "76ef7b9d-aeea-49a0-9338-93a545da04ff"
      },
      "execution_count": null,
      "outputs": [
        {
          "output_type": "stream",
          "name": "stdout",
          "text": [
            "Mounted at /content/drive\n"
          ]
        }
      ]
    },
    {
      "cell_type": "code",
      "source": [
        "import os\n",
        "os.chdir(\"/content/drive/My Drive/VERIYAPILARI_ISTKA\")\n",
        "!pwd"
      ],
      "metadata": {
        "colab": {
          "base_uri": "https://localhost:8080/"
        },
        "id": "83xtXdSk_7Ih",
        "outputId": "75540bcd-e568-40d0-f416-f554fd5642e9"
      },
      "execution_count": null,
      "outputs": [
        {
          "output_type": "stream",
          "name": "stdout",
          "text": [
            "/content/drive/My Drive/VERIYAPILARI_ISTKA\n"
          ]
        }
      ]
    },
    {
      "cell_type": "markdown",
      "source": [
        "PYTHON programlama dili üzerindeki dosya işlemleri bağlamında Yapay Zeka (YZ) çalışmaları noktasında veri setlerini ele aldık. Veri yapıları ve Algoritmalar'ın sonucu olarak yapay zeka çalışmaları ele alacağız. Doğru veri yapısı için bu bağlamda yapay zeka uygulamaları için veri setlerinin önemi:   \n",
        "    \n",
        "Modelin Doğruluğu   \n",
        "Geniş Kapsamlı bir genelleme   \n",
        "Performans   \n",
        "Modilin başarısı için verilerin doğruluğu çok önemlidir."
      ],
      "metadata": {
        "id": "jgCL_qZUAMCj"
      }
    },
    {
      "cell_type": "code",
      "source": [
        "import pandas as pd\n",
        "import os\n",
        "\n",
        "VeriSetiYolu = \"/content/drive/My Drive/VERIYAPILARI_ISTKA/VeriSeti\"\n",
        "\n",
        "for file in os.listdir(VeriSetiYolu):    # Klasördeki tüm dosyaları listele\n",
        "  if file.endswith(('.xlsx', '.xls')):     # Sadece Excel dosyalarını seç, tuple olarak belirtin\n",
        "    df = pd.read_excel(os.path.join(VeriSetiYolu, file))   # Excel dosyasını pandas ile oku\n",
        "    df.to_csv(os.path.join(VeriSetiYolu, file.rsplit('.', 1)[0] + '.csv'), index=False)\n",
        "                                                               # DataFrame'i CSV formatında kaydet\n",
        "    print(f\"{file} dosyası CSV formatına çevrildi.\")     # Çevrim İşlemi Çıktısı\n",
        "\n",
        "# İşlem tamamlandığında kaç tane excel dosyası var ise o kadar *.csv formatına çevildiğinin\n",
        "# bilgisini almaktayız"
      ],
      "metadata": {
        "colab": {
          "base_uri": "https://localhost:8080/"
        },
        "id": "ff-rebPXEXCX",
        "outputId": "53fcd259-acca-4c48-d3a9-8bf223ed0e68"
      },
      "execution_count": 7,
      "outputs": [
        {
          "output_type": "stream",
          "name": "stdout",
          "text": [
            "atktan-geri-kazanm-miktarlar (1).xlsx dosyası CSV formatına çevrildi.\n"
          ]
        }
      ]
    }
  ]
}