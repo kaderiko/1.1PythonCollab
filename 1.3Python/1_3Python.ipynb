{
  "nbformat": 4,
  "nbformat_minor": 0,
  "metadata": {
    "colab": {
      "provenance": []
    },
    "kernelspec": {
      "name": "python3",
      "display_name": "Python 3"
    },
    "language_info": {
      "name": "python"
    }
  },
  "cells": [
    {
      "cell_type": "markdown",
      "source": [
        "Veri Yapıları ve Algoritmalar dersi. İGÜ SİBER AKADEMİ MERKEZİ 2. Ders 21.08.2024\n",
        "Koşul Yapıları"
      ],
      "metadata": {
        "id": "_dT2kztosb_Q"
      }
    },
    {
      "cell_type": "code",
      "execution_count": 16,
      "metadata": {
        "colab": {
          "base_uri": "https://localhost:8080/"
        },
        "id": "Q3db9POSsTv3",
        "outputId": "afb3acb7-d276-47e1-823e-141256b37061"
      },
      "outputs": [
        {
          "output_type": "stream",
          "name": "stdout",
          "text": [
            "İGÜ - ISTKA/ Ders 3\n"
          ]
        }
      ],
      "source": [
        "print(\"İGÜ - ISTKA/ Ders 3\")"
      ]
    },
    {
      "cell_type": "markdown",
      "source": [
        "Drive ve Collab bağlantısı yaptık."
      ],
      "metadata": {
        "id": "_XfjSK8Uvrhw"
      }
    },
    {
      "cell_type": "code",
      "source": [
        "import sys\n",
        "import os\n",
        "\n",
        "print(sys.version)\n",
        "from google.colab import drive\n",
        "drive.mount(\"/content/drive\")\n",
        "\n",
        "os.chdir(\"/content/drive/My Drive/VERIYAPILARI_ISTKA\",)\n",
        "!pwd"
      ],
      "metadata": {
        "colab": {
          "base_uri": "https://localhost:8080/"
        },
        "id": "9rpU_71ksZ0y",
        "outputId": "c62fb355-2bcb-444c-f525-a5bdf4d7ef28"
      },
      "execution_count": 17,
      "outputs": [
        {
          "output_type": "stream",
          "name": "stdout",
          "text": [
            "3.10.12 (main, Jul 29 2024, 16:56:48) [GCC 11.4.0]\n",
            "Drive already mounted at /content/drive; to attempt to forcibly remount, call drive.mount(\"/content/drive\", force_remount=True).\n",
            "/content/drive/My Drive/VERIYAPILARI_ISTKA\n"
          ]
        }
      ]
    },
    {
      "cell_type": "markdown",
      "source": [
        "PYTHON KOŞUL YAPILARI         \n",
        "1) if (eğer): Belirlenen şart doğruysa çalışır.                         \n",
        "2) if-else (aksi takdirde): if bloğu sağlanmazsa çalıştırılır.      \n",
        "3)if-elif-else: Birden fazla koşulu kontrol etmek için kullanılır.            \n",
        "4) İç İçe Koşullar                \n",
        "5) Mantıksal Operatörler ile Koşul Yapıları"
      ],
      "metadata": {
        "id": "3bQNwnuy0ZGZ"
      }
    },
    {
      "cell_type": "code",
      "source": [
        "# if koşul yapısı\n",
        "\n",
        "x = 8;\n",
        "\n",
        "if x > 6:\n",
        "  print(\"x, 6'dan büyüktür.\")"
      ],
      "metadata": {
        "colab": {
          "base_uri": "https://localhost:8080/"
        },
        "id": "G0H06x9Ux9gh",
        "outputId": "236309e1-1c8f-4837-b666-ced2ee7cda35"
      },
      "execution_count": 18,
      "outputs": [
        {
          "output_type": "stream",
          "name": "stdout",
          "text": [
            "x, 6'dan büyüktür.\n"
          ]
        }
      ]
    },
    {
      "cell_type": "code",
      "source": [
        "# if - else koşul yapısı\n",
        "\n",
        "x = 5;\n",
        "\n",
        "if x > 7:\n",
        "  print(\"x, 7'den büyüktür.\")\n",
        "else:\n",
        "  print(\"x, 7'den küçük veya eşittir\")"
      ],
      "metadata": {
        "colab": {
          "base_uri": "https://localhost:8080/"
        },
        "id": "tQ53tYf54h96",
        "outputId": "48f54fa5-723c-49a3-de84-08be3af86195"
      },
      "execution_count": 25,
      "outputs": [
        {
          "output_type": "stream",
          "name": "stdout",
          "text": [
            "x, 7'den küçük veya eşittir\n"
          ]
        }
      ]
    },
    {
      "cell_type": "code",
      "source": [
        "#if - elif - else koşul yapısı\n",
        "\n",
        "x = 9;\n",
        "\n",
        "if x > 15:\n",
        "  print(\"x, 10'dan büyüktür.\")\n",
        "elif x > 5:\n",
        "  print(\"x, 5'ten büyüktür ama 10'dan küçüktür veya eşittir.\")\n",
        "else:\n",
        "  print(\"x, 5'ten küçük veya eşittir.\")"
      ],
      "metadata": {
        "colab": {
          "base_uri": "https://localhost:8080/"
        },
        "id": "HFsB6lpu8YJJ",
        "outputId": "049d0ed7-870f-47b8-f777-93bf45ea3637"
      },
      "execution_count": 24,
      "outputs": [
        {
          "output_type": "stream",
          "name": "stdout",
          "text": [
            "x, 5'ten büyüktür ama 10'dan küçüktür veya eşittir.\n"
          ]
        }
      ]
    },
    {
      "cell_type": "code",
      "source": [
        "# İç İçe Koşul Yapısı\n",
        "\n",
        "y = 14;\n",
        "x = 10;\n",
        "\n",
        "if x > 12:\n",
        "  if y > 5:\n",
        "      print(\"x, 12'den büyük ve y, 5'ten büyüktür.\")\n",
        "  else:\n",
        "      print(\"x, 12'den büyük ama y, 5'ten küçük veya eşittir\")\n",
        "else:\n",
        "   print(\"x, 12'den küçük veya eşittir.\")"
      ],
      "metadata": {
        "colab": {
          "base_uri": "https://localhost:8080/"
        },
        "id": "RPkTU5nS9IKC",
        "outputId": "8b9e8858-4ad9-4799-ed91-332c068b4756"
      },
      "execution_count": 26,
      "outputs": [
        {
          "output_type": "stream",
          "name": "stdout",
          "text": [
            "x, 12'den küçük veya eşittir.\n"
          ]
        }
      ]
    },
    {
      "cell_type": "code",
      "source": [
        "#Mantıksal operatörler\n",
        "\n",
        "x = 9\n",
        "y= 4\n",
        "\n",
        "# 'and' operatörü ile\n",
        "if x > 5 and y > 3:\n",
        "  print(\"x, 5'ten büyüktür ve y, 3'den büyüktür.\")\n",
        "\n",
        "  #'or' operatörü ile\n",
        "if x > 5 or y < 7:\n",
        "  print(\"x, 5'ten büyüktür veya y, 7'den küçüktür.\")\n",
        "\n",
        "\n",
        "  #'not' operatörü ile\n",
        "if not x > 10:\n",
        "  print(\"x, 10'dan büyük değildir.\")\n",
        "\n"
      ],
      "metadata": {
        "colab": {
          "base_uri": "https://localhost:8080/"
        },
        "id": "ibgPdC5KE6BY",
        "outputId": "d41b9c8c-4e52-47b6-bbb5-eeae781a5be5"
      },
      "execution_count": 36,
      "outputs": [
        {
          "output_type": "stream",
          "name": "stdout",
          "text": [
            "x, 5'ten büyüktür ve y, 3'den büyüktür.\n",
            "x, 5'ten büyüktür veya y, 7'den küçüktür.\n",
            "x, 10'dan büyük değildir.\n"
          ]
        }
      ]
    },
    {
      "cell_type": "markdown",
      "source": [
        "KOŞUL YAPISI ÖRNEKLERİ"
      ],
      "metadata": {
        "id": "uHZsa32sGwM6"
      }
    },
    {
      "cell_type": "code",
      "source": [
        "#ÖRNEK 1: Not Sistemleri\n",
        "\n",
        "notu = 70 #not farkı gösterilecek.\n",
        "\n",
        "if(notu >= 90):\n",
        "  print(\"A\")\n",
        "elif( notu >=80):\n",
        "  print(\"B\")\n",
        "elif(notu >= 70): #Not 70 olduğu için bu satır çalışacaktır.\n",
        "  print(\"C\")\n",
        "elif(notu >= 60):\n",
        "  print(\"D\")\n",
        "else:\n",
        "  print(\"F\")\n"
      ],
      "metadata": {
        "colab": {
          "base_uri": "https://localhost:8080/"
        },
        "id": "v1C3WLWIGjgS",
        "outputId": "e9852005-8a49-4650-9f93-a945d9d54408"
      },
      "execution_count": 38,
      "outputs": [
        {
          "output_type": "stream",
          "name": "stdout",
          "text": [
            "C\n"
          ]
        }
      ]
    },
    {
      "cell_type": "code",
      "source": [
        "#ÖRNEK 2: Yaş Kontrolü\n",
        "\n",
        "yas = 19;\n",
        "\n",
        "if(yas < 18):\n",
        "  print(\"Reşit değilsiniz.\")\n",
        "elif yas < 21:\n",
        "  print(\"Reşitsiniz ama içecek satın alamazsınız.\")\n",
        "else:\n",
        "  print(\"Reşit ve içecek satın alabilirsiniz.\")"
      ],
      "metadata": {
        "colab": {
          "base_uri": "https://localhost:8080/"
        },
        "id": "T3UB-oUjHfOL",
        "outputId": "e812e99a-369b-4124-9901-e2802f937d33"
      },
      "execution_count": 39,
      "outputs": [
        {
          "output_type": "stream",
          "name": "stdout",
          "text": [
            "Reşitsiniz ama içecek satın alamazsınız.\n"
          ]
        }
      ]
    },
    {
      "cell_type": "code",
      "source": [
        "#ÖRNEK 3: Sayı Pozitif, Negatif veya Sıfır mı?\n",
        "\n",
        "\n",
        "\n",
        "sayi = int(input(\"Bir sayı giriniz \"))\n",
        "\n",
        "if(sayi > 0):\n",
        "  print(\"sayı pozitiftir.\")\n",
        "elif(sayi < 0):\n",
        "  print(\"sayı negatiftir.\")\n",
        "else:\n",
        "  print(\"sayı sıfırdır.\")"
      ],
      "metadata": {
        "colab": {
          "base_uri": "https://localhost:8080/"
        },
        "id": "NxCsxiixIbTd",
        "outputId": "9e6e60ae-0c41-4ec2-b439-a6eef08843cd"
      },
      "execution_count": 46,
      "outputs": [
        {
          "output_type": "stream",
          "name": "stdout",
          "text": [
            "Bir sayı giriniz 0\n",
            "sayı sıfırdır.\n"
          ]
        }
      ]
    }
  ]
}