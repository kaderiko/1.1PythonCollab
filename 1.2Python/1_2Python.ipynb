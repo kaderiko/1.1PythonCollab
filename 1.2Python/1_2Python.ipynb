{
  "nbformat": 4,
  "nbformat_minor": 0,
  "metadata": {
    "colab": {
      "provenance": []
    },
    "kernelspec": {
      "name": "python3",
      "display_name": "Python 3"
    },
    "language_info": {
      "name": "python"
    }
  },
  "cells": [
    {
      "cell_type": "markdown",
      "source": [
        "Veri Yapıları ve Algoritmalar dersi.  İGÜ SİBER AKADEMİ MERKEZİ 2. Ders 19.08.2024"
      ],
      "metadata": {
        "id": "aunCKNzLpABP"
      }
    },
    {
      "cell_type": "code",
      "source": [
        "print(\"İGÜ - ISTKA/ Ders 2\")"
      ],
      "metadata": {
        "colab": {
          "base_uri": "https://localhost:8080/"
        },
        "id": "mzxi5WQyo5av",
        "outputId": "f4c6dcf0-02f1-4dcf-a89c-dc8ae7f39e9e"
      },
      "execution_count": 10,
      "outputs": [
        {
          "output_type": "stream",
          "name": "stdout",
          "text": [
            "İGÜ - ISTKA/ Ders 2\n"
          ]
        }
      ]
    },
    {
      "cell_type": "markdown",
      "source": [
        "Drive ve Collab bağlantısı yaptık."
      ],
      "metadata": {
        "id": "2DubDFoaotnd"
      }
    },
    {
      "cell_type": "code",
      "execution_count": null,
      "metadata": {
        "colab": {
          "base_uri": "https://localhost:8080/"
        },
        "id": "_VefehC-lhjO",
        "outputId": "0abd62cd-56f0-431b-c6a8-9a75ab1719a8"
      },
      "outputs": [
        {
          "output_type": "stream",
          "name": "stdout",
          "text": [
            "3.10.12 (main, Jul 29 2024, 16:56:48) [GCC 11.4.0]\n",
            "Drive already mounted at /content/drive; to attempt to forcibly remount, call drive.mount(\"/content/drive\", force_remount=True).\n",
            "/content/drive/My Drive/VERIYAPILARI_ISTKA\n"
          ]
        }
      ],
      "source": [
        "import sys\n",
        "print(sys.version)\n",
        "from google.colab import drive\n",
        "drive.mount(\"/content/drive\")\n",
        "\n",
        "import os\n",
        "os.chdir('/content/drive/My Drive/VERIYAPILARI_ISTKA')\n",
        "!pwd"
      ]
    },
    {
      "cell_type": "code",
      "source": [
        "#Geçerli değişken tanımlaması\n",
        "#Python'da int float gibi bir tanımlama yapmamıza gerek yoktur.\n",
        "\n",
        "degisken_1 =10\n",
        "degisken2 = 20\n",
        "_degisken = 30"
      ],
      "metadata": {
        "id": "3H7AlQxqvfSN"
      },
      "execution_count": 14,
      "outputs": []
    },
    {
      "cell_type": "code",
      "source": [
        "#Geçersiz değişken tanımlaması\n",
        "\n",
        "1Degisken = 40 #Rakam ile başlayamaz.\n",
        "degisken-4 = 50 #Özel karakter kullanılamaz."
      ],
      "metadata": {
        "colab": {
          "base_uri": "https://localhost:8080/",
          "height": 106
        },
        "id": "uIYBXGc4wQMt",
        "outputId": "1faa739e-8a22-4d56-e697-4139ef2df48e"
      },
      "execution_count": 12,
      "outputs": [
        {
          "output_type": "error",
          "ename": "SyntaxError",
          "evalue": "invalid decimal literal (<ipython-input-12-508203237ed7>, line 2)",
          "traceback": [
            "\u001b[0;36m  File \u001b[0;32m\"<ipython-input-12-508203237ed7>\"\u001b[0;36m, line \u001b[0;32m2\u001b[0m\n\u001b[0;31m    1Degisken = 40\u001b[0m\n\u001b[0m    ^\u001b[0m\n\u001b[0;31mSyntaxError\u001b[0m\u001b[0;31m:\u001b[0m invalid decimal literal\n"
          ]
        }
      ]
    },
    {
      "cell_type": "code",
      "source": [
        "#Değişken Tanımlama İşlemi\n",
        "\n",
        "x = 5;\n",
        "y = \"Hello World\"\n",
        "\n",
        "print(x)\n",
        "print(y)"
      ],
      "metadata": {
        "colab": {
          "base_uri": "https://localhost:8080/"
        },
        "id": "mFG7q7bMwlqn",
        "outputId": "165788b5-9337-48e6-ff83-b19a14e33bb2"
      },
      "execution_count": 15,
      "outputs": [
        {
          "output_type": "stream",
          "name": "stdout",
          "text": [
            "5\n",
            "Hello World\n"
          ]
        }
      ]
    },
    {
      "cell_type": "code",
      "source": [
        "#Integer - Tamsayı Tanımlaması\n",
        "\n",
        "a = 10\n",
        "print(type(a)) #type ile a atamasının hangi türde olduğunu öğreniyoruz."
      ],
      "metadata": {
        "colab": {
          "base_uri": "https://localhost:8080/"
        },
        "id": "vdIfXQVCyjCS",
        "outputId": "7da7c346-6894-46ea-ac1a-00efacd90702"
      },
      "execution_count": 17,
      "outputs": [
        {
          "output_type": "stream",
          "name": "stdout",
          "text": [
            "<class 'int'>\n"
          ]
        }
      ]
    },
    {
      "cell_type": "code",
      "source": [
        "#Float - Ondalıklı Sayı Tanımlaması\n",
        "\n",
        "b=20.5\n",
        "print(type(b))"
      ],
      "metadata": {
        "colab": {
          "base_uri": "https://localhost:8080/"
        },
        "id": "cjrujkUV5xW1",
        "outputId": "c9777790-7f1c-4ce4-98d1-d3211924be93"
      },
      "execution_count": 20,
      "outputs": [
        {
          "output_type": "stream",
          "name": "stdout",
          "text": [
            "<class 'float'>\n"
          ]
        }
      ]
    },
    {
      "cell_type": "code",
      "source": [
        "#int'ten float'a Çevrimin Gerçekleşmesi\n",
        "\n",
        "x = 10\n",
        "y= float(x)\n",
        "print(y, type(y))"
      ],
      "metadata": {
        "colab": {
          "base_uri": "https://localhost:8080/"
        },
        "id": "sDXQH8l46Z-l",
        "outputId": "91d82889-f5b8-4be2-d9df-1717ee4bef37"
      },
      "execution_count": 33,
      "outputs": [
        {
          "output_type": "stream",
          "name": "stdout",
          "text": [
            "10.0 <class 'float'>\n"
          ]
        }
      ]
    },
    {
      "cell_type": "code",
      "source": [
        "#Float'tan int'e Çevrminin Gerçekleştirilmesi\n",
        "\n",
        "x = 10.4\n",
        "y = int(x)\n",
        "\n",
        "print(y, type(y))"
      ],
      "metadata": {
        "colab": {
          "base_uri": "https://localhost:8080/"
        },
        "id": "ayapK32t6-FS",
        "outputId": "6f09e327-d26a-4ccf-c47d-b503a71b1d62"
      },
      "execution_count": 32,
      "outputs": [
        {
          "output_type": "stream",
          "name": "stdout",
          "text": [
            "10 <class 'int'>\n"
          ]
        }
      ]
    },
    {
      "cell_type": "code",
      "source": [
        "#String - Metinsel İçerik Tanımlaması\n",
        "\n",
        "c = \"Python Programlama\"\n",
        "print(c)\n",
        "print(type(c))\n",
        "\n",
        "#Direkt yazdırmak için print(c, type(c)) şeklinde de yazabiliriz."
      ],
      "metadata": {
        "colab": {
          "base_uri": "https://localhost:8080/"
        },
        "id": "TAYGPNNT7bYG",
        "outputId": "786ba1f6-17a0-401e-9472-494834c12b06"
      },
      "execution_count": 31,
      "outputs": [
        {
          "output_type": "stream",
          "name": "stdout",
          "text": [
            "Python Programlama\n",
            "<class 'str'>\n"
          ]
        }
      ]
    },
    {
      "cell_type": "code",
      "source": [
        "#Boolean (True - False) Tanımlaması\n",
        "\n",
        "d = True\n",
        "e = False\n",
        "\n",
        "print(d)\n",
        "print(e, type(e))"
      ],
      "metadata": {
        "colab": {
          "base_uri": "https://localhost:8080/"
        },
        "id": "xBjXimAZ7zgK",
        "outputId": "9ebe4ff1-70a1-4ef8-9003-042a46dd9794"
      },
      "execution_count": 34,
      "outputs": [
        {
          "output_type": "stream",
          "name": "stdout",
          "text": [
            "True\n",
            "False <class 'bool'>\n"
          ]
        }
      ]
    },
    {
      "cell_type": "code",
      "source": [
        "#List (Liste) Tanımlaması\n",
        "\n",
        "my_list = [1, 2, 3, 4, 5]\n",
        "print(type(my_list))\n",
        "print(my_list)"
      ],
      "metadata": {
        "colab": {
          "base_uri": "https://localhost:8080/"
        },
        "id": "Y7OEZBXV8_SO",
        "outputId": "50c9aec6-ca67-498d-f0b9-7c3d7432da32"
      },
      "execution_count": 35,
      "outputs": [
        {
          "output_type": "stream",
          "name": "stdout",
          "text": [
            "<class 'list'>\n",
            "[1, 2, 3, 4, 5]\n"
          ]
        }
      ]
    },
    {
      "cell_type": "code",
      "source": [
        "#Tuple - Demet Tanımlaması\n",
        "\n",
        "my_tuple = (1, 2, 3, 4, 5)\n",
        "print(type(my_tuple))\n",
        "print(my_tuple)"
      ],
      "metadata": {
        "colab": {
          "base_uri": "https://localhost:8080/"
        },
        "id": "AdJ6Btd1-USR",
        "outputId": "be6b9928-c204-4d9e-c2cb-6e5ba2c440d2"
      },
      "execution_count": 36,
      "outputs": [
        {
          "output_type": "stream",
          "name": "stdout",
          "text": [
            "<class 'tuple'>\n",
            "(1, 2, 3, 4, 5)\n"
          ]
        }
      ]
    },
    {
      "cell_type": "code",
      "source": [
        "#Dictionary (Sözlük) Örneği --> Öğrencilerin notlarını ekleme ve güncelleme\n",
        "notlar = {\"Ali \": 85, \"Veli \": 90, \"Ayşe \": 78 }\n",
        "\n",
        "notlar[\"Fatma \"] = 92 #Yeni öğrenci ekleme\n",
        "notlar[\"Ali \"] = 88 #Bir öğrencinin notunu güncelleme\n",
        "\n",
        "print(notlar)"
      ],
      "metadata": {
        "colab": {
          "base_uri": "https://localhost:8080/"
        },
        "id": "fFbZYUHV_8SU",
        "outputId": "b498f0ac-19ce-4a0a-c9de-dd83522d27e1"
      },
      "execution_count": 44,
      "outputs": [
        {
          "output_type": "stream",
          "name": "stdout",
          "text": [
            "{'Ali ': 88, 'Veli ': 90, 'Ayşe ': 78, 'Fatma ': 92}\n"
          ]
        }
      ]
    },
    {
      "cell_type": "code",
      "source": [
        "print(notlar.keys()) #dict_keys(['isim', 'yas', 'meslek'])\n",
        "print(notlar.values()) #dict_values(['Ahmet','26','Mühendis'])\n",
        "print(notlar.items) # dict_items([('isim', 'Ahmet'), ('yas', 26), ('meslek', 'Mühendis')])"
      ],
      "metadata": {
        "colab": {
          "base_uri": "https://localhost:8080/"
        },
        "id": "2y5U3g_NBPMV",
        "outputId": "0aa21377-b85a-403f-c109-237cda08c879"
      },
      "execution_count": 75,
      "outputs": [
        {
          "output_type": "stream",
          "name": "stdout",
          "text": [
            "dict_keys(['Ali ', 'Veli ', 'Ayşe ', 'Fatma '])\n",
            "dict_values([88, 90, 78, 92])\n",
            "<built-in method items of dict object at 0x7901a19916c0>\n"
          ]
        }
      ]
    },
    {
      "cell_type": "code",
      "source": [
        "#Set - Küme Örneği --> Bir yazılım etkinliğine katılan kişilerin oluşturduğu kümeler\n",
        "\n",
        "kodyazanlar = {\"Ahmet\", \"Mehmet\", \"Ayşe\"}\n",
        "kodyazmayanlar = {\"Ayşe\", \"Fatma\", \"Veli\"}\n",
        "\n",
        "#Kafasına Göre Takılan Öğrenciler\n",
        "ortak = kodyazanlar.intersection(kodyazmayanlar) #intersection(): iki küme arasındaki ortak elemanları bulmuş oluruz.\n",
        "print(\"Ortak Öğrenciler:\", ortak)\n",
        "\n",
        "#Etkinlikte Kod Çalışması Yapmayan Öğrencilerin Tespiti\n",
        "Kod_yazmayan = kodyazmayanlar.difference(kodyazanlar) # difference(): ikinci kümeye ait olup birinci kümede bulunmayan elemanlar döndürülür.\n",
        "print(\"Kod yazmayan öğrenciler:\", Kod_yazmayan)\n",
        "\n",
        "#Yazılım Eğitiminin Öğrenci İmza Listesi\n",
        "imza_listesi = kodyazanlar.union(kodyazmayanlar) #union(): Her iki kümedeki tüm öğeleri içeren yeni bir küme döndürür.\n",
        "\n",
        "print(\"Etkinlik Katılımcıları: \", imza_listesi)"
      ],
      "metadata": {
        "colab": {
          "base_uri": "https://localhost:8080/"
        },
        "id": "c-ml17V_B8BZ",
        "outputId": "c404452e-ab1d-4a66-9ca4-a42f69d85dda"
      },
      "execution_count": 52,
      "outputs": [
        {
          "output_type": "stream",
          "name": "stdout",
          "text": [
            "Ortak Öğrenciler: {'Ayşe'}\n",
            "Kod yazmayan öğrenciler: {'Veli', 'Fatma'}\n",
            "Etkinlik Katılımcıları:  {'Veli', 'Fatma', 'Ayşe', 'Mehmet', 'Ahmet'}\n"
          ]
        }
      ]
    },
    {
      "cell_type": "code",
      "source": [
        "giris = input(\"Bir sayı giriniz: \")\n",
        "try: #try hatalara karşı denetler.\n",
        "  num = float(giris)\n",
        "  print(f\"Girilen sayı: {num}, tipi: {type(num)},\", abs(num)) #f: Formatted string literals\n",
        "except ValueError: #Kod bloğundaki bir hata durumunda işlemler yapmayı sağlar.\n",
        "  print(\"Geçersiz veri girdiniz\")"
      ],
      "metadata": {
        "colab": {
          "base_uri": "https://localhost:8080/"
        },
        "id": "hfbKewy9ECuM",
        "outputId": "cd8a6858-bc3f-4c98-ae83-a0ce292f51a5"
      },
      "execution_count": 76,
      "outputs": [
        {
          "output_type": "stream",
          "name": "stdout",
          "text": [
            "Bir sayı giriniz: 4\n",
            "Girilen sayı: 4.0, tipi: <class 'float'>, 4.0\n"
          ]
        }
      ]
    },
    {
      "cell_type": "code",
      "source": [
        "#0 ile 1 arasında rastgele bir ondalık sayı üretir.\n",
        "\n",
        "import random\n",
        "rastgele_float = random.random()\n",
        "print(\"Rastgele Deger: \", rastgele_float)"
      ],
      "metadata": {
        "colab": {
          "base_uri": "https://localhost:8080/"
        },
        "id": "pH_feq9VFA4Y",
        "outputId": "ec2d1fc6-b88a-4136-8c18-93c4c1724069"
      },
      "execution_count": 60,
      "outputs": [
        {
          "output_type": "stream",
          "name": "stdout",
          "text": [
            "Rastgele Deger:  0.9479826981259171\n"
          ]
        }
      ]
    },
    {
      "cell_type": "code",
      "source": [
        "#1 ile 10 arasında (her iki sınır dahil değil) rastgele bir sayı üretir.\n",
        "\n",
        "import random\n",
        "rastgele_sayi = random.randint(1, 10)\n",
        "print(\"Rastgele Değer: \", rastgele_sayi)"
      ],
      "metadata": {
        "colab": {
          "base_uri": "https://localhost:8080/"
        },
        "id": "lg6MO_-yFT0z",
        "outputId": "d9538458-dbdf-4a26-eeaa-d4ee9121aec9"
      },
      "execution_count": 74,
      "outputs": [
        {
          "output_type": "stream",
          "name": "stdout",
          "text": [
            "Rastgele Değer:  2\n"
          ]
        }
      ]
    }
  ]
}