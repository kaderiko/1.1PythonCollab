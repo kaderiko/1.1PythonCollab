{
  "nbformat": 4,
  "nbformat_minor": 0,
  "metadata": {
    "colab": {
      "provenance": []
    },
    "kernelspec": {
      "name": "python3",
      "display_name": "Python 3"
    },
    "language_info": {
      "name": "python"
    }
  },
  "cells": [
    {
      "cell_type": "markdown",
      "source": [
        "Veri Yapıları ve Algoritmalar dersi. İGÜ SİBER AKADEMİ MERKEZİ 4. Ders 23.08.2024\n",
        "Tekrarlar"
      ],
      "metadata": {
        "id": "9ZpXF0BwCSgw"
      }
    },
    {
      "cell_type": "code",
      "source": [
        "print(\"İGÜ - ISTKA/ Ders 5\")"
      ],
      "metadata": {
        "colab": {
          "base_uri": "https://localhost:8080/"
        },
        "id": "DnafP41zD8Gu",
        "outputId": "a0155490-6831-4445-d302-1d8508b7e6ce"
      },
      "execution_count": 2,
      "outputs": [
        {
          "output_type": "stream",
          "name": "stdout",
          "text": [
            "İGÜ - ISTKA/ Ders 5\n"
          ]
        }
      ]
    },
    {
      "cell_type": "code",
      "execution_count": 7,
      "metadata": {
        "id": "2Dt4dllGBvCX",
        "colab": {
          "base_uri": "https://localhost:8080/"
        },
        "outputId": "1b48d887-bbba-4c76-e5ec-f1db1493117c"
      },
      "outputs": [
        {
          "output_type": "stream",
          "name": "stdout",
          "text": [
            "3.10.12 (main, Jul 29 2024, 16:56:48) [GCC 11.4.0]\n",
            "Drive already mounted at /content/drive; to attempt to forcibly remount, call drive.mount(\"/content/drive\", force_remount=True).\n",
            "/content/drive/My Drive/VERIYAPILARI_ISTKA\n"
          ]
        }
      ],
      "source": [
        "import sys\n",
        "import os\n",
        "\n",
        "print(sys.version)\n",
        "from google.colab import drive\n",
        "drive.mount('/content/drive')\n",
        "os.chdir('/content/drive/My Drive/VERIYAPILARI_ISTKA')\n",
        "!pwd"
      ]
    },
    {
      "cell_type": "code",
      "source": [
        "#1 ile 100 arasındaki sayılardan 7'ye bölünenleri bulan python kodu.\n",
        "\n",
        "number_array = [] # 7'ye bölünenleri tuttuğumuz liste\n",
        "number_array2 = [] # 7'ye bölünmeyenleri tuttuğumuz liste\n",
        "number = 1;\n",
        "\n",
        "while number <= 100:\n",
        "  if number %7 == 0:\n",
        "    number_array.append(number) #append: eklemek\n",
        "  elif number %7 != 0:\n",
        "    number_array2.append(number)\n",
        "\n",
        "  number += 1\n",
        "\n",
        "print(\"1 ile 100 arasındaki yediye bölünen sayıları: \", number_array)\n",
        "print(\"Toplam sayi adeti: \", len(number_array))\n",
        "\n",
        "print(\"1 ile 100 arasındaki 7'ye bölünmeyen sayılar:\", number_array2)\n",
        "print(\"Toplam sayi adeti: \", len(number_array2))"
      ],
      "metadata": {
        "colab": {
          "base_uri": "https://localhost:8080/"
        },
        "id": "tlRUnJAXE397",
        "outputId": "e9a56434-898f-40c2-fa89-2f50e84b875b"
      },
      "execution_count": 12,
      "outputs": [
        {
          "output_type": "stream",
          "name": "stdout",
          "text": [
            "1 ile 100 arasındaki yediye bölünen sayıları:  [7, 14, 21, 28, 35, 42, 49, 56, 63, 70, 77, 84, 91, 98]\n",
            "Toplam sayi adeti:  14\n",
            "1 ile 100 arasındaki 7'ye bölünmeyen sayılar: [1, 2, 3, 4, 5, 6, 8, 9, 10, 11, 12, 13, 15, 16, 17, 18, 19, 20, 22, 23, 24, 25, 26, 27, 29, 30, 31, 32, 33, 34, 36, 37, 38, 39, 40, 41, 43, 44, 45, 46, 47, 48, 50, 51, 52, 53, 54, 55, 57, 58, 59, 60, 61, 62, 64, 65, 66, 67, 68, 69, 71, 72, 73, 74, 75, 76, 78, 79, 80, 81, 82, 83, 85, 86, 87, 88, 89, 90, 92, 93, 94, 95, 96, 97, 99, 100]\n",
            "Toplam sayi adeti:  86\n"
          ]
        }
      ]
    },
    {
      "cell_type": "code",
      "source": [
        "#Girilen iki kodun hangisinin  büyük olduğunu gösteren python kodu.\n",
        "\n",
        "#Eğer true yazarsak break'i de kullanmak zorundayız.\n",
        "\n",
        "while True:\n",
        "  try:\n",
        "    excam1 = float(input(\"Birinci sayıyı giriniz:\"))\n",
        "    excam2 = float(input(\"İkinci sayıyı giriniz: \"))\n",
        "\n",
        "    if excam1 > excam2:\n",
        "      print(\"İlk sayı büyüktür\")\n",
        "\n",
        "    elif excam1 < excam2:\n",
        "      print(\"İkinci sayı büyüktür\")\n",
        "\n",
        "    else:\n",
        "      print(\"Sayılar eşittir\")\n",
        "\n",
        "    break\n",
        "  except ValueError:\n",
        "    print(\"Lütfen sayı giriniz.\")\n"
      ],
      "metadata": {
        "colab": {
          "base_uri": "https://localhost:8080/"
        },
        "id": "5rFxWSQDKjOE",
        "outputId": "4696520b-afb6-4690-b96d-89ed3cf8ed9f"
      },
      "execution_count": 20,
      "outputs": [
        {
          "output_type": "stream",
          "name": "stdout",
          "text": [
            "Birinci sayıyı giriniz:10\n",
            "İkinci sayıyı giriniz: 10\n",
            "Sayılar eşittir\n"
          ]
        }
      ]
    },
    {
      "cell_type": "code",
      "source": [
        "# Kullanıcıdan başlangıç ve bitiş değerlerini alarak\n",
        "# Başlangıç değerini al\n",
        "while True:\n",
        "    try:\n",
        "        start = int(input(\"Başlangıç değerini giriniz: \"))\n",
        "        if start < 0:\n",
        "            start = abs(start)\n",
        "            print(\"Negatif değer girdiniz, pozitif olarak adlandırıldı: \", start)\n",
        "        break\n",
        "    except ValueError:\n",
        "        print(\"Lütfen geçerli bir tam sayı giriniz.\")\n",
        "\n",
        "# Bitiş değerini al\n",
        "while True:\n",
        "    try:\n",
        "        finish = int(input(\"Bitiş değerini giriniz: \"))\n",
        "        if finish < 0:\n",
        "            finish = abs(finish)\n",
        "            print(\"Negatif değer girdiniz, pozitif olarak adlandırıldı: \", finish)\n",
        "        break\n",
        "    except ValueError:\n",
        "        print(\"Lütfen geçerli bir tam sayı giriniz.\")\n",
        "\n",
        "# Başlangıç ve bitiş değerleri arasında çift sayıları bul ve topla\n",
        "couple_number = []\n",
        "couple_number_sum = 0\n",
        "number = start\n",
        "\n",
        "while number <= finish:\n",
        "    if number % 2 == 0:\n",
        "        couple_number.append(number)\n",
        "        couple_number_sum += number\n",
        "    number += 1\n",
        "\n",
        "# Elde edilen çift sayıları ve toplamları ekrana yazdır\n",
        "print(\"Bu liste\", start, \"ile\", finish, \"arasındaki çift sayılardır:\")\n",
        "for num in couple_number:\n",
        "    print(num, end=\" \")\n",
        "\n",
        "print(\"\\nToplamı: \", couple_number_sum)\n"
      ],
      "metadata": {
        "colab": {
          "base_uri": "https://localhost:8080/"
        },
        "id": "KQZQnWa0NN8R",
        "outputId": "f4c447dd-34d1-4af4-d05b-72eade1dfdb6"
      },
      "execution_count": 34,
      "outputs": [
        {
          "output_type": "stream",
          "name": "stdout",
          "text": [
            "Başlangıç değerini giriniz: 10\n",
            "Bitiş değerini giriniz: -70\n",
            "Negatif değer girdiniz, pozitif olarak adlandırıldı:  70\n",
            "Bu liste 10 ile 70 arasındaki çift sayılardır:\n",
            "10 12 14 16 18 20 22 24 26 28 30 32 34 36 38 40 42 44 46 48 50 52 54 56 58 60 62 64 66 68 70 \n",
            "Toplamı:  1240\n"
          ]
        }
      ]
    },
    {
      "cell_type": "code",
      "source": [
        "#Kullanıcıdan başlangıç ve bitiş değerlerini alarak\n",
        "\n",
        "#Kullanıcıdan başlangıç değeri al\n",
        "\n",
        "while True:\n",
        "  try:\n",
        "    start = int(input(\"Başlangıç değerini giriniz: \"))\n",
        "    if start < 0:\n",
        "      start = abs(start)\n",
        "      print(\"Negatif değer girdiniz, poizitif olarak adlandı: \", start)\n",
        "    break\n",
        "  except ValueError:\n",
        "    print(\"Lütfen geçerli bir tam sayı giriniz.\")\n",
        "\n",
        "    #Kullanıcıdan son değeri al\n",
        "\n",
        "while True:\n",
        "  try:\n",
        "    finish = int(input(\"Bitiş değerini giriniz:\"))\n",
        "    if finish < 0:\n",
        "      start = abs(finish)\n",
        "      print(\"Negatif değer girdiniz, poizitif olarak adlandı: \", finish)\n",
        "    break\n",
        "  except ValueError:\n",
        "    print(\"Lütfen geçerli bir tam sayı giriniz.\")\n",
        "\n",
        "    #Başlangıç ve bitiş değerleri arasında çift sayıları bul ve topla\n",
        "\n",
        "    couple_number = []\n",
        "    couple_number_sum = 0\n",
        "    number = start\n",
        "\n",
        "    while number <= finish:\n",
        "      if number %2 == 0:\n",
        "        couple_number.append(number)\n",
        "        couple_number_sum += number\n",
        "      number += 1\n",
        "\n",
        "\n",
        "# Elde edilen çift sayıları ve toplamları ekrana yazdır\n",
        "print(\"Bu liste\", start, \"ile\", finish, \"arasındaki çift sayılardır:\")\n",
        "for num in couple_number:\n",
        "    print(num, end=\" \")\n",
        "\n",
        "print(\"\\nToplamı: \", couple_number_sum)"
      ],
      "metadata": {
        "colab": {
          "base_uri": "https://localhost:8080/"
        },
        "id": "ODPSY3CGW9HX",
        "outputId": "e08973b0-5371-43a9-d0d6-2fa302aaa3e5"
      },
      "execution_count": 35,
      "outputs": [
        {
          "output_type": "stream",
          "name": "stdout",
          "text": [
            "Başlangıç değerini giriniz: 10\n",
            "Bitiş değerini giriniz:-20\n",
            "Negatif değer girdiniz, poizitif olarak adlandı:  -20\n",
            "Bu liste 20 ile -20 arasındaki çift sayılardır:\n",
            "10 12 14 16 18 20 22 24 26 28 30 32 34 36 38 40 42 44 46 48 50 52 54 56 58 60 62 64 66 68 70 \n",
            "Toplamı:  1240\n"
          ]
        }
      ]
    },
    {
      "cell_type": "code",
      "source": [
        "# Önceden tanımlalan sesli harf listesinde girilen metnin karşılaştırılması yapılarak sesli ve sessiz harf kontrolünün yapımı\n",
        "\n",
        "vowels = 'aeıioöuüAEIİOÖUÜ'\n",
        "\n",
        "word = input(\"Bir kelime giriniz: \")\n",
        "\n",
        "#Sesli ve sessiz harf sayısını hesapla\n",
        "vowel_count = 0\n",
        "consonant_count = 0\n",
        "\n",
        "'''\n",
        "isalpha() ile bir stringde yalnızca harf olup olmadığını kontrol etmek için kullanılır.\n",
        "Aşağıdaki kod bloğunda geçen \"isalpha\" harf dışı bir karakter ile karşılaşınca \"false\" döndürmektedir.\n",
        "'''\n",
        "\n",
        "for letter in word:\n",
        "  if letter.isalpha():\n",
        "    if letter in vowels:\n",
        "      vowel_count += 1\n",
        "    else:\n",
        "      consonant_count += 1\n",
        "\n",
        "#Sonuçları ekrana yazdır.\n",
        "print(word, \"kelimesinde\", vowel_count, \"sesli harf vardır.\")\n",
        "print(word, \"kelimesinde\", consonant_count, \"sessiz harf vardır.\")"
      ],
      "metadata": {
        "colab": {
          "base_uri": "https://localhost:8080/"
        },
        "id": "UPcdWD4lbbbp",
        "outputId": "7ae2f0a2-1af0-4108-8789-7f5affe5b8df"
      },
      "execution_count": 37,
      "outputs": [
        {
          "output_type": "stream",
          "name": "stdout",
          "text": [
            "Bir kelime giriniz: kader\n",
            "kader kelimesinde 2 sesli harf vardır.\n",
            "kader kelimesinde 3 sessiz harf vardır.\n"
          ]
        }
      ]
    }
  ]
}