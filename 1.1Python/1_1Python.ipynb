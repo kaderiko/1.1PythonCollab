{
  "nbformat": 4,
  "nbformat_minor": 0,
  "metadata": {
    "colab": {
      "provenance": []
    },
    "kernelspec": {
      "name": "python3",
      "display_name": "Python 3"
    },
    "language_info": {
      "name": "python"
    }
  },
  "cells": [
    {
      "cell_type": "markdown",
      "source": [
        "Python program dilinde print komutu ekrandan kullanıcıya bilgi veren bir koddur.\n",
        "Veri Yapıları ve Algoritmalar dersi ilk kodlama çıktısı. İGÜ SİBER AKADEMİ MERKEZİ 19.08.2024"
      ],
      "metadata": {
        "id": "8JdcpEo26sc0"
      }
    },
    {
      "cell_type": "code",
      "execution_count": 9,
      "metadata": {
        "id": "keSGrUpJ2VhJ",
        "colab": {
          "base_uri": "https://localhost:8080/"
        },
        "outputId": "58751287-fe40-45c6-9e51-d11535b62a5e"
      },
      "outputs": [
        {
          "output_type": "stream",
          "name": "stdout",
          "text": [
            "Merhaba, İgGÜ - Istka / Ders1 \n"
          ]
        }
      ],
      "source": [
        "print(\"Merhaba, İgGÜ - Istka / Ders1 \") #Bu bir açıklama satırıdır."
      ]
    },
    {
      "cell_type": "code",
      "source": [
        "import sys #import python programa dilinde yazılım dilinde kütüphane eklemeye yarar.\n",
        "print(sys.version)"
      ],
      "metadata": {
        "colab": {
          "base_uri": "https://localhost:8080/"
        },
        "id": "c2u1u5am54IL",
        "outputId": "23fc34bf-4e5f-43c5-f375-20b0a9428f04"
      },
      "execution_count": 11,
      "outputs": [
        {
          "output_type": "stream",
          "name": "stdout",
          "text": [
            "3.10.12 (main, Jul 29 2024, 16:56:48) [GCC 11.4.0]\n"
          ]
        }
      ]
    },
    {
      "cell_type": "code",
      "source": [
        "from google.colab import drive # google colab - drive bağlantısı\n",
        "drive.mount('/content/drive') #Bütün drive izinleri kabul edilmelidir yoksa çalışmaz."
      ],
      "metadata": {
        "colab": {
          "base_uri": "https://localhost:8080/"
        },
        "id": "4FUDsaGs7q8q",
        "outputId": "e9e6d489-b0b0-45ec-9c54-ecf2488faac1"
      },
      "execution_count": 13,
      "outputs": [
        {
          "output_type": "stream",
          "name": "stdout",
          "text": [
            "Drive already mounted at /content/drive; to attempt to forcibly remount, call drive.mount(\"/content/drive\", force_remount=True).\n"
          ]
        }
      ]
    },
    {
      "cell_type": "markdown",
      "source": [
        "Aşağıdaki kod bize kodun çıktısını dosya yolu olaral veren kod bloğudur.\n",
        "Python'da Jupyter Notebook veya IPython gibi etkileşimli ortamlar kullanıyorsanız,  komut satırı komutlarını çalıştırmak için ! işareti kullanabilirsiniz. Bu durumda, !pwd komutu, çalışma dizinini göstermek için kullanılır."
      ],
      "metadata": {
        "id": "7yHhwQAR9nti"
      }
    },
    {
      "cell_type": "code",
      "source": [
        "import os #Operating System\n",
        "os.chdir(\"/content/drive/My Drive/VERIYAPILARI_ISTKA\") #chdir: Change Directory\n",
        "!pwd #Print Working Directory"
      ],
      "metadata": {
        "colab": {
          "base_uri": "https://localhost:8080/"
        },
        "id": "ClAhTTSS84Oy",
        "outputId": "a394e212-41ab-42ca-bb63-7130b6848198"
      },
      "execution_count": 18,
      "outputs": [
        {
          "output_type": "stream",
          "name": "stdout",
          "text": [
            "/content/drive/My Drive/VERIYAPILARI_ISTKA\n"
          ]
        }
      ]
    }
  ]
}